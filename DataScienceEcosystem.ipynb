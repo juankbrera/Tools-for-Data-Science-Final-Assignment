{
 "cells": [
  {
   "cell_type": "markdown",
   "id": "14bb6c99-743a-4db7-a6f7-f8663ad83473",
   "metadata": {
    "tags": []
   },
   "source": [
    "<h1>Data Science Tools and Ecosystem</h1>"
   ]
  },
  {
   "cell_type": "markdown",
   "id": "24d825db-8d55-44c8-8e47-b86f87d96a23",
   "metadata": {},
   "source": [
    "<p>In this notebook, Data Science Tools and Ecosystem are summarized.</p>"
   ]
  },
  {
   "cell_type": "markdown",
   "id": "d86878d3-7c37-4367-8538-bc76fdf0d5f4",
   "metadata": {
    "tags": []
   },
   "source": [
    "<strong>Objectives:</strong>\n",
    "<ul>\n",
    "    <li>List popular languages used for Data Science</li>\n",
    "    <li>List commonly libraries used for Data Science</li>\n",
    "    <li>Show arithmetic expression examples</li>\n",
    "</ul>"
   ]
  },
  {
   "cell_type": "markdown",
   "id": "8d0a5067-fddb-4860-a142-1551bff2d0d8",
   "metadata": {
    "tags": []
   },
   "source": [
    "<h2>Author</h2>\n",
    "<p>Juan Cabrera</p>"
   ]
  },
  {
   "cell_type": "markdown",
   "id": "14dcc50c-f3be-47ef-b47f-7dfb942d68e3",
   "metadata": {
    "tags": []
   },
   "source": [
    "<p>Some of the popular languages that Data Scientists use are:</p>\n",
    "<ol>\n",
    "    <li>Python</li>\n",
    "    <li>R</li>\n",
    "    <li>SQL</li>\n",
    "</ol>"
   ]
  },
  {
   "cell_type": "markdown",
   "id": "1f7f6704-89fa-4ef1-881e-6b15d8312e9e",
   "metadata": {
    "tags": []
   },
   "source": [
    "<p>Some of the commonly used libraries used by Data Scientists include:</p>\n",
    "<ol>\n",
    "    <li>NumPy</li>\n",
    "    <li>Keras</li>\n",
    "    <li>Pandas</li>\n",
    "</ol>"
   ]
  },
  {
   "cell_type": "markdown",
   "id": "2c2bc94e-e531-4230-8e27-62e7e81be8d8",
   "metadata": {},
   "source": [
    "<table>\n",
    "    <thead>\n",
    "        <th>Data Science Tools</th>\n",
    "    </thead>\n",
    "    <tbody>\n",
    "        <tr>\n",
    "            <td>Anaconda</td>\n",
    "        </tr>\n",
    "        <tr>\n",
    "            <td>Jupyter Notebook</td>\n",
    "        </tr>\n",
    "        <tr>\n",
    "            <td>RStudio</td>\n",
    "        </tr>\n",
    "    </tbody>\n",
    "</table>"
   ]
  },
  {
   "cell_type": "markdown",
   "id": "694d1841-905a-460f-9ba4-4a8f20a36b5e",
   "metadata": {
    "tags": []
   },
   "source": [
    "<h3>Below are a few examples of evaluating arithmetic expressions in Python</h3>"
   ]
  },
  {
   "cell_type": "code",
   "execution_count": 7,
   "id": "1d67c7fe-dd6e-47ad-8cd6-f1f868f3f8fb",
   "metadata": {
    "tags": []
   },
   "outputs": [
    {
     "data": {
      "text/plain": [
       "17"
      ]
     },
     "execution_count": 7,
     "metadata": {},
     "output_type": "execute_result"
    }
   ],
   "source": [
    "# This a simple arithmetic expression to mutiply then add integers\n",
    "\n",
    "(3*4)+5"
   ]
  },
  {
   "cell_type": "code",
   "execution_count": 10,
   "id": "1ac7b3d5-4df8-4a8c-a63b-8be45ebbb42b",
   "metadata": {
    "tags": []
   },
   "outputs": [
    {
     "data": {
      "text/plain": [
       "3.3333333333333335"
      ]
     },
     "execution_count": 10,
     "metadata": {},
     "output_type": "execute_result"
    }
   ],
   "source": [
    "# This will convert 200 minutes to hours by diving by 60\n",
    "\n",
    "200/60"
   ]
  }
 ],
 "metadata": {
  "kernelspec": {
   "display_name": "Python",
   "language": "python",
   "name": "conda-env-python-py"
  },
  "language_info": {
   "codemirror_mode": {
    "name": "ipython",
    "version": 3
   },
   "file_extension": ".py",
   "mimetype": "text/x-python",
   "name": "python",
   "nbconvert_exporter": "python",
   "pygments_lexer": "ipython3",
   "version": "3.7.12"
  }
 },
 "nbformat": 4,
 "nbformat_minor": 5
}
